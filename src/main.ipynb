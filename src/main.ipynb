{
 "cells": [
  {
   "cell_type": "code",
   "execution_count": 234,
   "metadata": {},
   "outputs": [],
   "source": [
    "from random import random, choice, randint , choices\n",
    "from pprint import pprint\n",
    "from math import sin, cos\n",
    "from expression_tree import Expression\n",
    "from binarytree import Node , tree\n",
    "import numpy as np\n",
    "import graphviz\n",
    "import sympy\n",
    "import copy\n",
    "# import logging"
   ]
  },
  {
   "cell_type": "code",
   "execution_count": 270,
   "metadata": {},
   "outputs": [],
   "source": [
    "def f(x):\n",
    "    return x**2 + 2*x"
   ]
  },
  {
   "cell_type": "code",
   "execution_count": 235,
   "metadata": {},
   "outputs": [],
   "source": [
    "# logging.basicConfig(level=logging.DEBUG, file='../log/log1.txt',\n",
    "#                     format='%(asctime)s  %(levelname)s : %(message)s')"
   ]
  },
  {
   "cell_type": "markdown",
   "metadata": {},
   "source": [
    "*todo:*\n",
    "- numpy type refactor\n",
    "- overwriting variable x of fx with x = roulette\n",
    "- sympy simplify\n",
    "- numexpr\n",
    "- deepcopy\n",
    "- cut in mse same\n",
    "- type portability of numpy.types\n",
    "- jit numba"
   ]
  },
  {
   "cell_type": "code",
   "execution_count": 236,
   "metadata": {},
   "outputs": [],
   "source": [
    "def operator_map(ch: str, left_sum, right_sum):\n",
    "    # print(f\"{ch=} ({type(ch).__name__}) | {left_sum=} ({type(left_sum).__name__}) | {right_sum=} ({type(right_sum).__name__})\" )\n",
    "    if ch == '+':\n",
    "        return left_sum + right_sum\n",
    "    elif ch == '-':\n",
    "        return left_sum - right_sum\n",
    "    elif ch == '*':\n",
    "        return left_sum * right_sum\n",
    "    elif ch == '/':\n",
    "        # if right_sum == 0:\n",
    "        #     return 0\n",
    "        # TODO : bullshit\n",
    "        return left_sum / right_sum\n",
    "    elif ch == '^':\n",
    "        return left_sum ** right_sum\n",
    "    elif ch == 'cos':\n",
    "        return cos(right_sum)\n",
    "    elif ch == 'sin':\n",
    "        return sin(right_sum)\n",
    "    else:\n",
    "        pass\n"
   ]
  },
  {
   "cell_type": "code",
   "execution_count": 237,
   "metadata": {},
   "outputs": [],
   "source": [
    "def evaluate(root: Node, vars,dbg =0,depth =1 ):\n",
    "    # if dbg == 0:\n",
    "    #     print(root)\n",
    "    #     print(f\"{vars=}\")\n",
    "    # print(f\"{root.value=} {depth=}\")\n",
    "    \"\"\"evaluate value of tree from the input for variables using recursive inorder traverse\"\"\"\n",
    "    if root is None: # empty tree\n",
    "        return 0\n",
    "    if root.left is None and root.right is None:  # leaf node\n",
    "        if root.value.isnumeric():\n",
    "            return int(root.value)\n",
    "            # TODO : add check for is digit & in vars throw\n",
    "        else:\n",
    "            return vars\n",
    "            \n",
    "            # TODO : just int not float sin(1.45)\n",
    "            # TODO : sin is radian\n",
    "    left_sum = evaluate(root.left, vars,1,depth+1)\n",
    "    right_sum = evaluate(root.right, vars,1,depth+1)\n",
    "    return operator_map(root.value, left_sum, right_sum)"
   ]
  },
  {
   "cell_type": "code",
   "execution_count": 238,
   "metadata": {},
   "outputs": [],
   "source": [
    "def expTree2str(root: Node):\n",
    "    if root is None:  # empty tree\n",
    "        return \"\"\n",
    "    if root.left is None and root.right is None:  # leaf node\n",
    "        return str(root.value)\n",
    "        # TODO : add check for is digit & in vars throw\n",
    "\n",
    "    left_sum = expTree2str(root.left)\n",
    "    right_sum = expTree2str(root.right)\n",
    "    return \"(\" + left_sum +str(root.value) +right_sum +\")\"\n",
    "\n"
   ]
  },
  {
   "cell_type": "code",
   "execution_count": 282,
   "metadata": {},
   "outputs": [],
   "source": [
    "def MSE(actual, predictions):\n",
    "    \"\"\"Mean Squared Error\"\"\"\n",
    "    sb = [(a1 - b1)**2 for (a1,b1) in zip(actual,predictions)]\n",
    "    return sum(sb) / len(sb)"
   ]
  },
  {
   "cell_type": "code",
   "execution_count": 240,
   "metadata": {},
   "outputs": [],
   "source": [
    "def crossover(x: Node, y:Node):\n",
    "    # print(\"______________________________________________________\")\n",
    "    # print(x)\n",
    "    # print(y)\n",
    "    # print(\"++++++++++\")\n",
    "    x_copy = copy.deepcopy(x)\n",
    "    y_copy = copy.deepcopy(y)\n",
    "    inorder_x = x_copy.inorder\n",
    "    inorder_y = y_copy.inorder\n",
    "    # print(inorder_x, '\\n',inorder_y)\n",
    "    x_node = Node(1)\n",
    "    y_node = Node(1)\n",
    "    while x_node.value not in op:\n",
    "        x_node = choice(inorder_x)\n",
    "    while y_node.value not in op:\n",
    "        y_node = choice(inorder_y)\n",
    "    # print(x_node)\n",
    "    # print(y_node)\n",
    "    # print('res')\n",
    "    x_node.__dict__, y_node.__dict__ = y_node.__dict__, x_node.__dict__\n",
    "    # print(x_copy)\n",
    "    # print(y_copy)\n",
    "    return x_copy, y_copy\n",
    "\n",
    "\n",
    "# (child1,child2) = crossover(first_tree, second_tree)\n"
   ]
  },
  {
   "cell_type": "code",
   "execution_count": 241,
   "metadata": {},
   "outputs": [],
   "source": [
    "def roulette_wheel_selection(population, fit_vec: list):\n",
    "    \"\"\"Roulette Wheel Selection for minimizing problem\"\"\"\n",
    "    maxfit = max(fit_vec)\n",
    "    fitvec2 = [  (-1)*samp + maxfit for samp in fit_vec]\n",
    "    return choices(population,weights= fitvec2, k= 1)[0]\n",
    "    # TODO : negetive mse probability"
   ]
  },
  {
   "cell_type": "code",
   "execution_count": 242,
   "metadata": {},
   "outputs": [],
   "source": [
    "UNARIES = [\"sqrt(%s)\", \"exp(%s)\", \"log(%s)\", \"sin(%s)\", \"cos(%s)\", \"tan(%s)\",\n",
    "           \"sinh(%s)\", \"cosh(%s)\", \"tanh(%s)\", \"asin(%s)\", \"acos(%s)\",\n",
    "           \"atan(%s)\", \"-%s\"]\n",
    "BINARIES = [\"%s + %s\", \"%s - %s\", \"%s * %s\", \"%s / %s\", \"%s ^ %s\"]\n",
    "BINARIES = [\"%s + %s\", \"%s - %s\", \"%s * %s\"]\n",
    "\n",
    "\n",
    "PROP_PARANTHESIS = 0.4\n",
    "PROP_BINARY = 1.0"
   ]
  },
  {
   "cell_type": "code",
   "execution_count": 243,
   "metadata": {},
   "outputs": [],
   "source": [
    "def generate_expressions(scope, num_exp, num_ops):\n",
    "    print(f\"{num_ops=}\")\n",
    "    print(f\"{num_exp=}\")\n",
    "\n",
    "    scope = list(scope)  # make a copy first, append as we go\n",
    "    for _ in range(num_ops):\n",
    "        if random() < PROP_BINARY:  # decide unary or binary operator\n",
    "            ex = choice(BINARIES) % (choice(scope), choice(scope))\n",
    "            if random() < PROP_PARANTHESIS:\n",
    "                ex = \"(%s)\" % ex\n",
    "            scope.append(ex)\n",
    "        else:\n",
    "            scope.append(choice(UNARIES) % choice(scope))\n",
    "    return scope[-num_exp:]  # return most recent expressions"
   ]
  },
  {
   "cell_type": "code",
   "execution_count": 244,
   "metadata": {},
   "outputs": [],
   "source": [
    "def main():\n",
    "    # test()\n",
    "    # np.set_printoptions(precision=3)\n",
    "\n",
    "    x = list(range(1, 10))\n",
    "    y = [f(samp) for samp in x]\n",
    "    print(f\"{x=}\")\n",
    "    print(f\"{y=}\")\n",
    "    print(f\"{scope=}\")\n",
    "    randexpr_arr = generate_expressions(scope, num_exp=5, num_ops=5)\n",
    "    randexpr_exp = []\n",
    "    randexpr_tree = []\n",
    "\n",
    "    for index, expression in enumerate(randexpr_arr):\n",
    "        test = Expression(expression=expression, operators=op, operators_info=op_info,\n",
    "                          operators_associativity=assotiation, variables=varchar)\n",
    "        randexpr_exp.append(test)\n",
    "        randexpr_tree.append(test.tree())\n",
    "        print(f\"{index}:\", randexpr_exp[index], \"& \", expression)\n",
    "\n",
    "        print(randexpr_tree[index])\n",
    "\n",
    "\n",
    "    genetic_algo(population=randexpr_tree, mutation_probability=0)"
   ]
  },
  {
   "cell_type": "code",
   "execution_count": 246,
   "metadata": {},
   "outputs": [],
   "source": [
    "op = {'+', '-', '*', '/', '^',\n",
    "      'sin', 'cos'}\n",
    "op_info = {'+': (2, 1), '-': (2, 1),\n",
    "           '*': (2, 2), '/': (2, 2),\n",
    "           '^': (2, 3),\n",
    "           'sin': (1, 4), 'cos': (1, 4)}\n",
    "assotiation = {'+': 'LR', '-': 'LR',\n",
    "               '*': 'LR', '/': 'LR',\n",
    "               '^': 'RL',\n",
    "               'sin': 'RL', 'cos': 'RL'}\n",
    "varchar = {'x'}\n",
    "strscope = 'x'\n",
    "scope = [c for c in strscope] \n",
    "# todo : expand scope\n"
   ]
  },
  {
   "cell_type": "code",
   "execution_count": 247,
   "metadata": {},
   "outputs": [],
   "source": [
    "# def evaluate_vectorized(root: Node, vars: np.array):\n",
    "#     if root is None: # empty tree\n",
    "#         return 0\n",
    "#     if root.left is None and root.right is None: # leaf node\n",
    "#         return vars\n",
    "#         # if root.value in scope:\n",
    "#         #     return vars[]\n",
    "#         #     # TODO : add check for is digit & in vars throw\n",
    "#         # else:\n",
    "#         #     return int(root.value)\n",
    "#         #     # TODO : just int not float sin(1.45)\n",
    "#         #     # TODO : sin is radian\n",
    "#     left_sum = evaluate_vectorized(root.left, vars)\n",
    "#     right_sum = evaluate_vectorized(root.right, vars)\n",
    "#     return operator_map(root.value, left_sum, right_sum)"
   ]
  },
  {
   "cell_type": "code",
   "execution_count": 248,
   "metadata": {},
   "outputs": [
    {
     "name": "stdout",
     "output_type": "stream",
     "text": [
      "x=[1, 2, 3, 4, 5, 6, 7, 8, 9]\n",
      "y=[2, 6, 12, 20, 30, 42, 56, 72, 90]\n",
      "scope=['x']\n"
     ]
    }
   ],
   "source": [
    "x = list(range(1, 10))\n",
    "y = [f(samp) for samp in x]\n",
    "# todo range from zero but / has problem\n",
    "\n",
    "print(f\"{x=}\")\n",
    "print(f\"{y=}\")\n",
    "print(f\"{scope=}\")"
   ]
  },
  {
   "cell_type": "code",
   "execution_count": 276,
   "metadata": {},
   "outputs": [
    {
     "name": "stdout",
     "output_type": "stream",
     "text": [
      "num_ops=10\n",
      "num_exp=10\n",
      "['0',\n",
      " 'x**2 - x',\n",
      " 'x**3 - x',\n",
      " 'x**3 - x',\n",
      " '-x',\n",
      " 'x**3 - 4*x',\n",
      " '-2*x',\n",
      " '-x**4',\n",
      " 'x*(x**3 - 4*x)',\n",
      " '-3*x']\n"
     ]
    }
   ],
   "source": [
    "randexpr_arr = generate_expressions(scope, num_exp=10, num_ops=10)\n",
    "randexpr_arr\n",
    "simpled = [str(sympy.sympify(str(x))) for x in randexpr_arr]\n",
    "# simpled = list({str(sympy.sympify(str(x))) for x in generate_expressions(scope, num_exp=10, num_ops=10)})\n",
    "pprint(simpled)"
   ]
  },
  {
   "cell_type": "code",
   "execution_count": null,
   "metadata": {},
   "outputs": [],
   "source": []
  },
  {
   "cell_type": "code",
   "execution_count": 266,
   "metadata": {},
   "outputs": [],
   "source": [
    "randexpr_exp = []\n",
    "randexpr_tree = []\n",
    "y_pred = []\n",
    "for index, expression in enumerate(randexpr_arr):\n",
    "    test = Expression(expression=expression, operators=op, operators_info=op_info,\n",
    "                      operators_associativity=assotiation, variables=varchar)\n",
    "    randexpr_exp.append(test)\n",
    "    randexpr_tree.append(test.tree())\n",
    "    # print(f\"{index}:\", randexpr_exp[index], \"& \", expression)\n",
    "    # print(randexpr_tree[index])\n",
    "\n"
   ]
  },
  {
   "cell_type": "code",
   "execution_count": 252,
   "metadata": {},
   "outputs": [],
   "source": [
    "def swapNode(x_node:Node,y_node:Node):\n",
    "    x_node.__dict__, y_node.__dict__ = y_node.__dict__, x_node.__dict__"
   ]
  },
  {
   "cell_type": "code",
   "execution_count": 253,
   "metadata": {},
   "outputs": [],
   "source": [
    "def evalFx(population:Node ,x:list ,y_pred):\n",
    "    for index,tree in enumerate(population):\n",
    "        # print(\"@@@@@@@@@@@@@@@@@@@@@@@@@@@@@@@@@@@@@@@@@@@@@@@@@@@@@@@@@@@@@@@@@@@@@@@@@@@@@@@@\")\n",
    "        # print(f\"{index=}\")\n",
    "        # print(\"x: \", x)\n",
    "        y_pred.append([evaluate(tree, te) for te in x])\n",
    "    # y_pred= [[evaluate(tree,te) for te in x] for tree in population]\n"
   ]
  },
  {
   "cell_type": "code",
   "execution_count": 281,
   "metadata": {},
   "outputs": [
    {
     "name": "stdout",
     "output_type": "stream",
     "text": [
      "\n",
      "                                                    __-__\n",
      "                                                   /     \\\n",
      "    ______________________________________________*       +\n",
      "   /                                               \\     / \\\n",
      "  -______                                           x   x   x\n",
      " /       \\\n",
      "x       __+__\n",
      "       /     \\\n",
      "      +       -______\n",
      "     / \\     /       \\\n",
      "    x   x   x       __-__________\n",
      "                   /             \\\n",
      "                  +             __-______\n",
      "                 / \\           /         \\\n",
      "                x   x       __*         __-__\n",
      "                           /   \\       /     \\\n",
      "                          +     x     +       +\n",
      "                         / \\         / \\     / \\\n",
      "                        x   x       x   x   x   x\n",
      "\n",
      "(((x-((x+x)+(x-((x+x)-(((x+x)*x)-((x+x)-(x+x)))))))*x)-(x+x))\n",
      "-2*x**3 - 2*x\n"
     ]
    }
   ],
   "source": [
    "def genetic_algo(population: list, mutation_probability: float, saving: float, x: np.array, y: np.array):\n",
    "    for abc in range(20):\n",
    "        new_population = []\n",
    "        y_pred = []\n",
    "        evalFx(population ,x ,y_pred)\n",
    "        mse = [MSE(y, gg) for gg in y_pred]\n",
    "\n",
    "        population = [guy for _, guy in sorted(\n",
    "            zip(mse, population), reverse=True, key=lambda x: x[0])]\n",
    "        mse = sorted(mse, reverse=True)\n",
    "        new_population.extend(population[:int(saving * len(population))])\n",
    "        len_population = int(len(population) * (1-saving) / 2)\n",
    "        for i in range(len_population):\n",
    "            x_chosen = roulette_wheel_selection(population, mse)\n",
    "            y_chosen = roulette_wheel_selection(population, mse)\n",
    "            (child1, child2) = crossover(x_chosen, y_chosen)\n",
    "            # if (random() < mutation_probability):\n",
    "            #     mutate(child)\n",
    "            new_population.append(child1)\n",
    "            new_population.append(child2)\n",
    "        population = new_population\n",
    "    y_pred = []\n",
    "    evalFx(population ,x ,y_pred)\n",
    "    mse = [MSE(y, gg) for gg in y_pred]\n",
    "    population = [guy for _, guy in sorted(\n",
    "                    zip(mse, population), reverse=True, key=lambda x: x[0])]\n",
    "    mse = sorted(mse, reverse=True)\n",
    "    return population\n",
    "\n",
    "\n",
    "res = genetic_algo(population=randexpr_tree, saving=0.2,\n",
    "                   mutation_probability=0.5, x=x, y=y)\n",
    "print(res[0])\n",
    "print(expTree2str(res[0]) )\n",
    "print(str(\n",
    "            sympy.sympify(\n",
    "                str(expTree2str(res[0]))\n",
    "            )\n",
    "          )\n",
    "      )\n",
    "# for tree in res:\n",
    "#     print(tree)\n",
    "# simpled = [str(sympy.sympify(str(bruh))) for bruh in res]\n",
    "# pprint(simpled)\n"
   ]
  },
  {
   "cell_type": "code",
   "execution_count": 110,
   "metadata": {},
   "outputs": [],
   "source": [
    "# # strscope = \"abcde\"\n",
    "# # scope = [c for c in strscope]\n",
    "# # num_exp=randint(1,5),\n",
    "# # randexpr = generate_expressions(scope,num_exp=int(input(\"enter num_exp: \")),num_ops=int(input(\"enter num_ops: \")))\n",
    "# # for index,expression in enumerate(randexpr):\n",
    "# #     print(expression)\n",
    "# #     # print(f'{index=}------>',tree)\n",
    "# # test = Expression(expression = \"x+sin(90)^2*y\",\n",
    "# #                     operators = {'+', 'sin', '^', '*'},\n",
    "# #                     operators_info = {'+': (2, 1), '*': (2, 2),'^': (2, 3), 'sin': (1, 4)},\n",
    "# #                     operators_associativity = {'+': 'LR', '*': 'LR','^': 'RL', 'sin': 'RL'},\n",
    "# #                     variables = {'x', 'y'})\n",
    "# expr = \"x+sin(90)^2*y\"\n",
    "# expr = '1+2*x^9/cos(x^2)+2*y^9'\n",
    "# expr = '1+2*x^9/cos(x^2)^2+2*y^9'\n",
    "# expr = \"x+2*y^2\"\n",
    "# op = {'+', '-', '*', '/', '^',\n",
    "#       'sin', 'cos'}\n",
    "# op_info = {'+': (2, 1), '-': (2, 1),\n",
    "#            '*': (2, 2), '/': (2, 2),\n",
    "#            '^': (2, 3),\n",
    "#            'sin': (1, 4), 'cos': (1, 4)}\n",
    "# assotiation = {'+': 'LR', '-': 'LR',\n",
    "#                '*': 'LR', '/': 'LR',\n",
    "#                '^': 'RL',\n",
    "#                'sin': 'RL', 'cos': 'RL'}\n",
    "# varchar = {'x', 'y'}\n",
    "# test = Expression(expression=expr, operators=op, operators_info=op_info,\n",
    "#                   operators_associativity=assotiation, variables=varchar)\n",
    "# print(expr)\n",
    "# print(test.tree())\n",
    "# test.tree().graphviz()\n",
    "# # pprint(test._tokens)\n",
    "# # pprint(list(expr))\n",
    "# print(evaluate(test.tree(), {'x': 4, 'y': 2}))"
   ]
  },
  {
   "cell_type": "code",
   "execution_count": 57,
   "metadata": {},
   "outputs": [],
   "source": [
    "# test.tree().graphviz()"
   ]
  },
  {
   "cell_type": "code",
   "execution_count": 141,
   "metadata": {},
   "outputs": [
    {
     "name": "stdout",
     "output_type": "stream",
     "text": [
      "\n",
      "        __+__\n",
      "       /     \\\n",
      "    __*       *\n",
      "   /   \\     / \\\n",
      "  *     x   x   x\n",
      " / \\\n",
      "x   x\n",
      "\n",
      "\n",
      "  *__________\n",
      " /           \\\n",
      "x           __+__\n",
      "           /     \\\n",
      "        __*       *\n",
      "       /   \\     / \\\n",
      "      *     x   x   x\n",
      "     / \\\n",
      "    x   x\n",
      "\n"
     ]
    }
   ],
   "source": [
    "first_tree = roulette_wheel_selection(randexpr_tree, mse)\n",
    "second_tree = roulette_wheel_selection(randexpr_tree, mse)\n",
    "print(first_tree)\n",
    "print(second_tree)\n"
   ]
  },
  {
   "cell_type": "code",
   "execution_count": 143,
   "metadata": {},
   "outputs": [
    {
     "name": "stdout",
     "output_type": "stream",
     "text": [
      "______________________________________________________\n",
      "\n",
      "        __+__\n",
      "       /     \\\n",
      "    __*       *\n",
      "   /   \\     / \\\n",
      "  *     x   x   x\n",
      " / \\\n",
      "x   x\n",
      "\n",
      "\n",
      "  *__________\n",
      " /           \\\n",
      "x           __+__\n",
      "           /     \\\n",
      "        __*       *\n",
      "       /   \\     / \\\n",
      "      *     x   x   x\n",
      "     / \\\n",
      "    x   x\n",
      "\n",
      "++++++++++\n",
      "\n",
      "    __*\n",
      "   /   \\\n",
      "  *     x\n",
      " / \\\n",
      "x   x\n",
      "\n",
      "\n",
      "        __+__\n",
      "       /     \\\n",
      "    __*       *\n",
      "   /   \\     / \\\n",
      "  *     x   x   x\n",
      " / \\\n",
      "x   x\n",
      "\n",
      "res\n",
      "\n",
      "            ______+__\n",
      "           /         \\\n",
      "        __+__         *\n",
      "       /     \\       / \\\n",
      "    __*       *     x   x\n",
      "   /   \\     / \\\n",
      "  *     x   x   x\n",
      " / \\\n",
      "x   x\n",
      "\n",
      "\n",
      "  *______\n",
      " /       \\\n",
      "x       __*\n",
      "       /   \\\n",
      "      *     x\n",
      "     / \\\n",
      "    x   x\n",
      "\n"
     ]
    }
   ],
   "source": [
    "(child1,child2) = crossover(first_tree, second_tree)"
   ]
  }
 ],
 "metadata": {
  "kernelspec": {
   "display_name": "Python 3.10.8 64-bit",
   "language": "python",
   "name": "python3"
  },
  "language_info": {
   "codemirror_mode": {
    "name": "ipython",
    "version": 3
   },
   "file_extension": ".py",
   "mimetype": "text/x-python",
   "name": "python",
   "nbconvert_exporter": "python",
   "pygments_lexer": "ipython3",
   "version": "3.10.8"
  },
  "orig_nbformat": 4,
  "vscode": {
   "interpreter": {
    "hash": "26de051ba29f2982a8de78e945f0abaf191376122a1563185a90213a26c5da77"
   }
  }
 },
 "nbformat": 4,
 "nbformat_minor": 2
}
