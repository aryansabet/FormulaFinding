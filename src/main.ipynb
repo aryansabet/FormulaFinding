{
 "cells": [
  {
   "cell_type": "markdown",
   "metadata": {},
   "source": [
    "*todo:*\n",
    "- numpy type refactor\n",
    "- overwriting variable x of fx with x = roulette\n",
    "- sympy simplify\n",
    "- numexpr\n",
    "- deepcopy\n",
    "- cut in mse same\n",
    "- type portability of numpy.types\n",
    "- jit numba"
   ]
  },
  {
   "cell_type": "code",
   "execution_count": 12,
   "metadata": {},
   "outputs": [],
   "source": [
    "from random import random, choice, randint , choices\n",
    "from pprint import pprint\n",
    "from binarytree import Node , tree\n",
    "import numpy as np\n",
    "import graphviz\n",
    "import sympy\n",
    "import copy\n",
    "from typing import Dict, List, Set, Tuple\n",
    "import numexpr as ne\n",
    "# import logging\n",
    "from expression_tree import Expression\n",
    "from mytools import operator_map, expTree2str, evaluate, evaluate_np\n",
    "from first_population import generate_expressions"
   ]
  },
  {
   "cell_type": "code",
   "execution_count": 25,
   "metadata": {},
   "outputs": [],
   "source": [
    "debugflag = False"
   ]
  },
  {
   "cell_type": "code",
   "execution_count": 14,
   "metadata": {},
   "outputs": [],
   "source": [
    "op = {'+', '-', '*', '/', '^',\n",
    "      'sin', 'cos'}\n",
    "op_info = {'+': (2, 1), '-': (2, 1),\n",
    "           '*': (2, 2), '/': (2, 2),\n",
    "           '^': (2, 3),\n",
    "           'sin': (1, 4), 'cos': (1, 4)}\n",
    "assotiation = {'+': 'LR', '-': 'LR',\n",
    "               '*': 'LR', '/': 'LR',\n",
    "               '^': 'RL',\n",
    "               'sin': 'RL', 'cos': 'RL'}\n",
    "varchar = {'x'}\n",
    "strscope = 'x'\n",
    "scope = [c for c in strscope] \n",
    "# print(f\"{scope=}\")\n",
    "# todo : expand scope\n"
   ]
  },
  {
   "cell_type": "code",
   "execution_count": 15,
   "metadata": {},
   "outputs": [],
   "source": [
    "def f(x):\n",
    "    return x**2 + 2*x"
   ]
  },
  {
   "cell_type": "code",
   "execution_count": 16,
   "metadata": {},
   "outputs": [],
   "source": [
    "def MSE(actual:np.array, predictions:np.array):\n",
    "    \"\"\"Mean Squared Error\"\"\"\n",
    "    # ac, pre        = np.array(actual) ,np.array(predictions)\n",
    "    ac, pre = actual, predictions\n",
    "    dif            = np.subtract(ac,pre)\n",
    "    squared_error  = np.square(dif)\n",
    "    sum_error      = np.sum(squared_error)\n",
    "    if debugflag:\n",
    "        print(\"''''''''''''''''''''''''''''''''''\")\n",
    "        print(  'ac= '   , ac  ,  '\\n',\n",
    "            'pre= '  , pre ,  '\\n',\n",
    "            'dif= '  , dif ,  '\\n',\n",
    "            'sq= '   ,squared_error,'\\n'\n",
    "            'sum_error= ', sum_error,'\\n'\n",
    "            'len=',len(ac),'\\n',\n",
    "            'final=', sum_error / len(ac)\n",
    "            )\n",
    "        print(\"''''''''''''''''''''''''''''''''''\")\n",
    "    return sum_error / len(ac)\n",
    "    # sb = [(a1 - b1)**2 for (a1,b1) in zip(actual,predictions)]"
   ]
  },
  {
   "cell_type": "code",
   "execution_count": 17,
   "metadata": {},
   "outputs": [],
   "source": [
    "def crossover(x: Node, y:Node):\n",
    "    # print(\"______________________________________________________\")\n",
    "    # print(x)\n",
    "    # print(y)\n",
    "    # print(\"++++++++++\")\n",
    "    x_copy = copy.deepcopy(x)\n",
    "    y_copy = copy.deepcopy(y)\n",
    "    inorder_x = x_copy.inorder\n",
    "    inorder_y = y_copy.inorder\n",
    "    # print(inorder_x, '\\n',inorder_y)\n",
    "    x_node = Node(1)\n",
    "    y_node = Node(1)\n",
    "    while x_node.value not in op:\n",
    "        x_node = choice(inorder_x)\n",
    "    while y_node.value not in op:\n",
    "        y_node = choice(inorder_y)\n",
    "    # print(x_node)\n",
    "    # print(y_node)\n",
    "    # print('res')\n",
    "    x_node.__dict__, y_node.__dict__ = y_node.__dict__, x_node.__dict__\n",
    "    # print(x_copy)\n",
    "    # print(y_copy)\n",
    "    return x_copy, y_copy"
   ]
  },
  {
   "cell_type": "code",
   "execution_count": 19,
   "metadata": {},
   "outputs": [],
   "source": [
    "def evalFx(population:List[Node] ,x:np.array) -> None:\n",
    "    y_pred = [evaluate_np(root=tree,vars=x) for tree in population]\n",
    "    if debugflag:\n",
    "        print(\"^^^^^^^^^^^^^^^^^^^^^^f(x)\")\n",
    "        for index,tree in enumerate(population):\n",
    "            print(f\"{index}: {str(sympy.sympify(str(expTree2str(tree))))}\")\n",
    "            print(y_pred[index])\n",
    "    return y_pred\n"
   ]
  },
  {
   "cell_type": "code",
   "execution_count": 18,
   "metadata": {},
   "outputs": [],
   "source": [
    "def get_ready_for_selection_np(population, mse):\n",
    "\n",
    "    sumOfList = np.sum(mse)\n",
    "    if debugflag:\n",
    "        print(\n",
    "            f\"^^^^^^^^^^^^^^^^^^^^^^^^^^min:{int(np.min(mse))}  mseSum:{int(sumOfList)} mean:{int(np.mean(mse))}\")\n",
    "    selection_probs = 1 - mse/sumOfList\n",
    "    return selection_probs\n",
    "\n",
    "\n",
    "def roulette_wheel_selection_np(population, selection_probs):\n",
    "    return population[np.random.choice(len(population), p=selection_probs)]\n"
   ]
  },
  {
   "cell_type": "code",
   "execution_count": 27,
   "metadata": {},
   "outputs": [
    {
     "name": "stdout",
     "output_type": "stream",
     "text": [
      "x=array([-5, -4, -3, -2, -1,  0,  1,  2,  3,  4])\n",
      "y=array([15,  8,  3,  0, -1,  0,  3,  8, 15, 24])\n",
      "x*sin(x)\n",
      "x**4\n",
      "x**5\n",
      "x**9\n",
      "x**5\n",
      "x**6\n",
      "x**2 + 2*x\n"
     ]
    },
    {
     "data": {
      "text/plain": [
       "[array([-4.79462137, -3.02720998,  0.42336002,  1.81859485,  0.84147098,\n",
       "         0.        ,  0.84147098,  1.81859485,  0.42336002, -3.02720998]),\n",
       " array([625, 256,  81,  16,   1,   0,   1,  16,  81, 256], dtype=int32),\n",
       " array([-3125, -1024,  -243,   -32,    -1,     0,     1,    32,   243,\n",
       "         1024], dtype=int32),\n",
       " array([-1953125,  -262144,   -19683,     -512,       -1,        0,\n",
       "               1,      512,    19683,   262144], dtype=int32),\n",
       " array([-3125, -1024,  -243,   -32,    -1,     0,     1,    32,   243,\n",
       "         1024], dtype=int32),\n",
       " array([15625,  4096,   729,    64,     1,     0,     1,    64,   729,\n",
       "         4096], dtype=int32),\n",
       " array([15,  8,  3,  0, -1,  0,  3,  8, 15, 24], dtype=int32)]"
      ]
     },
     "execution_count": 27,
     "metadata": {},
     "output_type": "execute_result"
    }
   ],
   "source": [
    "x = np.arange(-5,5)\n",
    "y = f(x)\n",
    "print(f\"{x=}\")\n",
    "print(f\"{y=}\")\n",
    "# todo range from zero but / has problem\n",
    "# randexpr_arr = generate_expressions(scope, num_exp=5, num_ops=10)\n",
    "randexpr_arr = [\"sin(x)*x\",\"x*x*x*x\",\"x*x*x*x*x\",\"x*x*x*x*x*x*x*x*x\",\"x*x*x*x*x\",\"x*x*x*x*x*x\",\"x*x + 2*x\"]\n",
    "simpled = [str(sympy.sympify(str(x))) for x in randexpr_arr]\n",
    "# simpled = list({str(sympy.sympify(str(x))) for x in generate_expressions(scope, num_exp=10, num_ops=10)})\n",
    "for tree in simpled:\n",
    "    print(tree)\n",
    "newvals=[]\n",
    "for exp in simpled:\n",
    "    newvals.append(ne.evaluate(exp))\n",
    "newvals"
   ]
  },
  {
   "cell_type": "code",
   "execution_count": 28,
   "metadata": {},
   "outputs": [
    {
     "name": "stdout",
     "output_type": "stream",
     "text": [
      "sinx*x\n",
      "x**4\n",
      "x**5\n",
      "x**9\n",
      "x**5\n",
      "x**6\n",
      "x**2 + 2*x\n"
     ]
    }
   ],
   "source": [
    "randexpr_exp = []\n",
    "randexpr_tree = []\n",
    "for index, expression in enumerate(randexpr_arr):\n",
    "    test = Expression(expression=expression, operators=op, operators_info=op_info,\n",
    "                      operators_associativity=assotiation, variables=varchar)\n",
    "    randexpr_exp.append(test)\n",
    "    randexpr_tree.append(test.tree())\n",
    "    # print(f\"{index}:\", randexpr_exp[index], \"& \", expression)\n",
    "    # print(randexpr_tree[index])\n",
    "for tree in randexpr_tree:\n",
    "    print(str(sympy.sympify(str(expTree2str(tree)))))\n"
   ]
  },
  {
   "cell_type": "code",
   "execution_count": 50,
   "metadata": {},
   "outputs": [],
   "source": [
    "def printPopulMse(population,mse=None):\n",
    "    if mse is None:\n",
    "        mse = np.zeros(len(population) , dtype=int)\n",
    "    print(\"__________________________________________________________________\")\n",
    "    for tree,num in zip(population,mse):\n",
    "        print(\"{0:20d}  |  {1}\".format(num,str(sympy.sympify(str(expTree2str(tree)))))  )\n",
    "    print(\"__________________________________________________________________\")\n",
    "    "
   ]
  },
  {
   "cell_type": "code",
   "execution_count": 57,
   "metadata": {},
   "outputs": [
    {
     "name": "stdout",
     "output_type": "stream",
     "text": [
      "__________________________________________________________________\n",
      "                   0  |  x**2 + 2*x\n",
      "                 151  |  sinx*x\n",
      "               49819  |  x**4\n",
      "             1203872  |  x**5\n",
      "             1203872  |  x**5\n",
      "            27800914  |  x**6\n",
      "           159139776  |  x**9\n",
      "__________________________________________________________________\n",
      "len(population)=7 || saving*len(population)=1.4000000000000001\n",
      "__________________________________________________________________\n",
      "                   0  |  x**2 + 2*x\n",
      "__________________________________________________________________\n"
     ]
    },
    {
     "ename": "ValueError",
     "evalue": "probabilities do not sum to 1",
     "output_type": "error",
     "traceback": [
      "\u001b[1;31m---------------------------------------------------------------------------\u001b[0m",
      "\u001b[1;31mValueError\u001b[0m                                Traceback (most recent call last)",
      "Cell \u001b[1;32mIn[57], line 36\u001b[0m\n\u001b[0;32m     32\u001b[0m     mse \u001b[39m=\u001b[39m \u001b[39msorted\u001b[39m(mse, reverse\u001b[39m=\u001b[39m\u001b[39mTrue\u001b[39;00m)\n\u001b[0;32m     33\u001b[0m     \u001b[39mreturn\u001b[39;00m population\n\u001b[1;32m---> 36\u001b[0m res \u001b[39m=\u001b[39m genetic_algo(population\u001b[39m=\u001b[39;49mrandexpr_tree, saving\u001b[39m=\u001b[39;49m\u001b[39m0.2\u001b[39;49m,\n\u001b[0;32m     37\u001b[0m                    mutation_probability\u001b[39m=\u001b[39;49m\u001b[39m0.5\u001b[39;49m, x\u001b[39m=\u001b[39;49mx, y\u001b[39m=\u001b[39;49my)\n\u001b[0;32m     38\u001b[0m \u001b[39mprint\u001b[39m(res[\u001b[39m0\u001b[39m])\n\u001b[0;32m     39\u001b[0m \u001b[39mprint\u001b[39m(expTree2str(res[\u001b[39m0\u001b[39m]) )\n",
      "Cell \u001b[1;32mIn[57], line 19\u001b[0m, in \u001b[0;36mgenetic_algo\u001b[1;34m(population, mutation_probability, saving, x, y)\u001b[0m\n\u001b[0;32m     17\u001b[0m selection_probs \u001b[39m=\u001b[39m get_ready_for_selection_np(population, mse)\n\u001b[0;32m     18\u001b[0m \u001b[39mfor\u001b[39;00m i \u001b[39min\u001b[39;00m \u001b[39mrange\u001b[39m(len_population):\n\u001b[1;32m---> 19\u001b[0m     x_chosen \u001b[39m=\u001b[39m roulette_wheel_selection_np(population, selection_probs)\n\u001b[0;32m     20\u001b[0m     y_chosen \u001b[39m=\u001b[39m roulette_wheel_selection_np(population, selection_probs)\n\u001b[0;32m     21\u001b[0m     (child1, child2) \u001b[39m=\u001b[39m crossover(x_chosen, y_chosen)\n",
      "Cell \u001b[1;32mIn[18], line 12\u001b[0m, in \u001b[0;36mroulette_wheel_selection_np\u001b[1;34m(population, selection_probs)\u001b[0m\n\u001b[0;32m     11\u001b[0m \u001b[39mdef\u001b[39;00m \u001b[39mroulette_wheel_selection_np\u001b[39m(population, selection_probs):\n\u001b[1;32m---> 12\u001b[0m     \u001b[39mreturn\u001b[39;00m population[np\u001b[39m.\u001b[39;49mrandom\u001b[39m.\u001b[39;49mchoice(\u001b[39mlen\u001b[39;49m(population), p\u001b[39m=\u001b[39;49mselection_probs)]\n",
      "File \u001b[1;32mmtrand.pyx:939\u001b[0m, in \u001b[0;36mnumpy.random.mtrand.RandomState.choice\u001b[1;34m()\u001b[0m\n",
      "\u001b[1;31mValueError\u001b[0m: probabilities do not sum to 1"
     ]
    }
   ],
   "source": [
    "def genetic_algo(population: list, mutation_probability: float, saving: float, x: np.array, y: np.array):\n",
    "    for abc in range(20):\n",
    "        new_population = []\n",
    "        y_pred = evalFx(population ,x)\n",
    "        mse = np.array([int(MSE(y, gg)) for gg in y_pred])\n",
    "        sortidx = mse.argsort()\n",
    "        sorted_popul= [population[num] for num in sortidx]\n",
    "        population = sorted_popul\n",
    "        mse = np.sort(mse)\n",
    "        printPopulMse(population,mse)\n",
    "\n",
    "        new_population.extend(population[:int(saving * len(population))])\n",
    "        print(f\"{len(population)=} || {saving*len(population)=}\")\n",
    "        printPopulMse(new_population)\n",
    "\n",
    "        len_population = int(len(population) * (1-saving) / 2)\n",
    "        selection_probs = get_ready_for_selection_np(population, mse)\n",
    "        for i in range(len_population):\n",
    "            x_chosen = roulette_wheel_selection_np(population, selection_probs)\n",
    "            y_chosen = roulette_wheel_selection_np(population, selection_probs)\n",
    "            (child1, child2) = crossover(x_chosen, y_chosen)\n",
    "            # if (random() < mutation_probability):\n",
    "            #     mutate(child)\n",
    "            new_population.append(child1)\n",
    "            new_population.append(child2)\n",
    "        population = new_population\n",
    "    y_pred = []\n",
    "    evalFx(population ,x ,y_pred)\n",
    "    mse = [MSE(y, gg) for gg in y_pred]\n",
    "    population = [guy for _, guy in sorted(\n",
    "                    zip(mse, population), reverse=True, key=lambda x: x[0])]\n",
    "    mse = sorted(mse, reverse=True)\n",
    "    return population\n",
    "\n",
    "\n",
    "res = genetic_algo(population=randexpr_tree, saving=0.2,\n",
    "                   mutation_probability=0.5, x=x, y=y)\n",
    "print(res[0])\n",
    "print(expTree2str(res[0]) )\n",
    "print(str(\n",
    "            sympy.sympify(\n",
    "                str(expTree2str(res[0]))\n",
    "            )\n",
    "          )\n",
    "      )\n",
    "# for tree in res:\n",
    "#     print(tree)\n",
    "# simpled = [str(sympy.sympify(str(bruh))) for bruh in res]\n",
    "# pprint(simpled)\n"
   ]
  },
  {
   "cell_type": "code",
   "execution_count": null,
   "metadata": {},
   "outputs": [],
   "source": [
    "# # strscope = \"abcde\"\n",
    "# # scope = [c for c in strscope]\n",
    "# # num_exp=randint(1,5),\n",
    "# # randexpr = generate_expressions(scope,num_exp=int(input(\"enter num_exp: \")),num_ops=int(input(\"enter num_ops: \")))\n",
    "# # for index,expression in enumerate(randexpr):\n",
    "# #     print(expression)\n",
    "# #     # print(f'{index=}------>',tree)\n",
    "# # test = Expression(expression = \"x+sin(90)^2*y\",\n",
    "# #                     operators = {'+', 'sin', '^', '*'},\n",
    "# #                     operators_info = {'+': (2, 1), '*': (2, 2),'^': (2, 3), 'sin': (1, 4)},\n",
    "# #                     operators_associativity = {'+': 'LR', '*': 'LR','^': 'RL', 'sin': 'RL'},\n",
    "# #                     variables = {'x', 'y'})\n",
    "# expr = \"x+sin(90)^2*y\"\n",
    "# expr = '1+2*x^9/cos(x^2)+2*y^9'\n",
    "# expr = '1+2*x^9/cos(x^2)^2+2*y^9'\n",
    "# expr = \"x+2*y^2\"\n",
    "# op = {'+', '-', '*', '/', '^',\n",
    "#       'sin', 'cos'}\n",
    "# op_info = {'+': (2, 1), '-': (2, 1),\n",
    "#            '*': (2, 2), '/': (2, 2),\n",
    "#            '^': (2, 3),\n",
    "#            'sin': (1, 4), 'cos': (1, 4)}\n",
    "# assotiation = {'+': 'LR', '-': 'LR',\n",
    "#                '*': 'LR', '/': 'LR',\n",
    "#                '^': 'RL',\n",
    "#                'sin': 'RL', 'cos': 'RL'}\n",
    "# varchar = {'x', 'y'}\n",
    "# test = Expression(expression=expr, operators=op, operators_info=op_info,\n",
    "#                   operators_associativity=assotiation, variables=varchar)\n",
    "# print(expr)\n",
    "# print(test.tree())\n",
    "# test.tree().graphviz()\n",
    "# # pprint(test._tokens)\n",
    "# # pprint(list(expr))\n",
    "# print(evaluate(test.tree(), {'x': 4, 'y': 2}))"
   ]
  },
  {
   "cell_type": "code",
   "execution_count": null,
   "metadata": {},
   "outputs": [],
   "source": [
    "# test.tree().graphviz()"
   ]
  }
 ],
 "metadata": {
  "kernelspec": {
   "display_name": "Python 3.10.8 64-bit",
   "language": "python",
   "name": "python3"
  },
  "language_info": {
   "codemirror_mode": {
    "name": "ipython",
    "version": 3
   },
   "file_extension": ".py",
   "mimetype": "text/x-python",
   "name": "python",
   "nbconvert_exporter": "python",
   "pygments_lexer": "ipython3",
   "version": "3.10.8"
  },
  "orig_nbformat": 4,
  "vscode": {
   "interpreter": {
    "hash": "26de051ba29f2982a8de78e945f0abaf191376122a1563185a90213a26c5da77"
   }
  }
 },
 "nbformat": 4,
 "nbformat_minor": 2
}
