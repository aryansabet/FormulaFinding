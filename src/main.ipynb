{
 "cells": [
  {
   "cell_type": "markdown",
   "metadata": {},
   "source": [
    "*todo:*\n",
    "- numpy type refactor\n",
    "- overwriting variable x of fx with x = roulette\n",
    "- sympy simplify\n",
    "- numexpr\n",
    "- deepcopy\n",
    "- cut in mse same\n",
    "- type portability of numpy.types\n",
    "- jit numba"
   ]
  },
  {
   "cell_type": "code",
   "execution_count": 27,
   "metadata": {},
   "outputs": [],
   "source": [
    "from random import random, choice, randint , choices\n",
    "from pprint import pprint\n",
    "from binarytree import Node , tree\n",
    "import numpy as np\n",
    "import graphviz\n",
    "import sympy\n",
    "import copy\n",
    "from typing import Dict, List, Set, Tuple\n",
    "import numexpr as ne\n",
    "# import logging\n",
    "from expression_tree import Expression\n",
    "from mytools import operator_map, expTree2str, evaluate, evaluate_np\n",
    "from first_population import generate_expressions"
   ]
  },
  {
   "cell_type": "code",
   "execution_count": 28,
   "metadata": {},
   "outputs": [],
   "source": [
    "debugflag = False\n",
    "numexp=5\n",
    "numops=10\n",
    "number_max_gen =200\n",
    "mutation_percent = 0.1\n",
    "PROP_BINARY = 1.0\n",
    "BigLog = False\n"
   ]
  },
  {
   "cell_type": "code",
   "execution_count": 47,
   "metadata": {},
   "outputs": [],
   "source": [
    "def f(x):\n",
    "    return x**2 + 2*x\n",
    "    # return x**5 + 3*x**4 + 2*x\n",
    "    # return -9*x**6 + 6*x**5 + 3*x**4 + 2*x\n",
    "    # return x**5 + 3*x**4 + 2*x + np.sin(x)"
   ]
  },
  {
   "cell_type": "code",
   "execution_count": 30,
   "metadata": {},
   "outputs": [],
   "source": [
    "op = {'+', '-', '*', '/', '^',\n",
    "      'sin', 'cos'}\n",
    "op_info = {'+': (2, 1), '-': (2, 1),\n",
    "           '*': (2, 2), '/': (2, 2),\n",
    "           '^': (2, 3),\n",
    "           'sin': (1, 4), 'cos': (1, 4)}\n",
    "assotiation = {'+': 'LR', '-': 'LR',\n",
    "               '*': 'LR', '/': 'LR',\n",
    "               '^': 'RL',\n",
    "               'sin': 'RL', 'cos': 'RL'}\n",
    "varchar = {'x'}\n",
    "strscope = 'x'\n",
    "scope = [c for c in strscope] \n",
    "# print(f\"{scope=}\")\n",
    "# todo : expand scope\n"
   ]
  },
  {
   "cell_type": "code",
   "execution_count": 49,
   "metadata": {},
   "outputs": [],
   "source": [
    "def printPopulMse(population,mse=None) -> None:\n",
    "    if mse is None:\n",
    "        mse = np.zeros(len(population) , dtype=int)\n",
    "    print(\"__________________________________________________________________\")\n",
    "    for tree,num in zip(population,mse):\n",
    "        print(\"{0:20d}  |  {1}\".format(num,str(sympy.sympify(str(expTree2str(tree)))))  )\n",
    "    print(\"__________________________________________________________________\")\n",
    "\n",
    "def printGenStatus(abc:int,mse:np.array, population:Node) -> None:\n",
    "    print(\"Gen:{0} --- min:{1}  |  mean:{2}\".format(abc,int(np.min(mse)),int(np.mean(mse))))\n",
    "    if not BigLog:\n",
    "        print(str(sympy.sympify(str(expTree2str(population[0])))))\n",
    "    "
   ]
  },
  {
   "cell_type": "code",
   "execution_count": 32,
   "metadata": {},
   "outputs": [],
   "source": [
    "def MSE(actual:np.array, predictions:np.array):\n",
    "    \"\"\"Mean Squared Error\"\"\"\n",
    "    # ac, pre        = np.array(actual) ,np.array(predictions)\n",
    "    ac, pre = actual, predictions\n",
    "    dif            = np.subtract(ac,pre, dtype='int64')\n",
    "    squared_error  = np.square(dif,dtype='int64')\n",
    "    sum_error      = np.sum(squared_error,dtype='int64')\n",
    "    if debugflag:\n",
    "        print(\"''''''''''''''''''''''''''''''''''\")\n",
    "        print(  'ac= '   , ac  ,  '\\n',\n",
    "            'pre= '  , pre ,  '\\n',\n",
    "            'dif= '  , dif ,  '\\n',\n",
    "            'sq= '   ,squared_error,'\\n'\n",
    "            'sum_error= ', sum_error,'\\n'\n",
    "            'len=',len(ac),'\\n',\n",
    "            'final=', sum_error / len(ac)\n",
    "            )\n",
    "        print(\"''''''''''''''''''''''''''''''''''\")\n",
    "    return sum_error / len(ac)\n",
    "    # sb = [(a1 - b1)**2 for (a1,b1) in zip(actual,predictions)]"
   ]
  },
  {
   "cell_type": "code",
   "execution_count": 33,
   "metadata": {},
   "outputs": [],
   "source": [
    "def crossover(firstnd: Node, secondnd:Node) -> tuple[Node, Node]:\n",
    "    # print(\"______________________________________________________\")\n",
    "    # print(x)\n",
    "    # print(y)\n",
    "    # print(\"++++++++++\")\n",
    "    x_copy = copy.deepcopy(firstnd)\n",
    "    y_copy = copy.deepcopy(secondnd)\n",
    "    inorder_x = x_copy.inorder\n",
    "    inorder_y = y_copy.inorder\n",
    "    # print(inorder_x, '\\n',inorder_y)\n",
    "    x_node = Node(1)\n",
    "    y_node = Node(1)\n",
    "    while x_node.value not in op:\n",
    "        x_node = choice(inorder_x)\n",
    "    while y_node.value not in op:\n",
    "        y_node = choice(inorder_y)\n",
    "    # print(x_node)\n",
    "    # print(y_node)\n",
    "    # print('res')\n",
    "    x_node.__dict__, y_node.__dict__ = y_node.__dict__, x_node.__dict__\n",
    "    # print(x_copy)\n",
    "    # print(y_copy)\n",
    "    return x_copy, y_copy"
   ]
  },
  {
   "cell_type": "code",
   "execution_count": 34,
   "metadata": {},
   "outputs": [],
   "source": [
    "def evalFx(population:List[Node] ,x:np.array) -> None:\n",
    "    y_pred = [evaluate_np(root=tree,vars=x) for tree in population]\n",
    "    if debugflag:\n",
    "        print(\"^^^^^^^^^^^^^^^^^^^^^^f(x)\")\n",
    "        for index,tree in enumerate(population):\n",
    "            print(f\"{index}: {str(sympy.sympify(str(expTree2str(tree))))}\")\n",
    "            print(y_pred[index])\n",
    "    return y_pred\n"
   ]
  },
  {
   "cell_type": "code",
   "execution_count": 35,
   "metadata": {},
   "outputs": [
    {
     "name": "stdout",
     "output_type": "stream",
     "text": [
      "x=array([-5, -4, -3, -2, -1,  0,  1,  2,  3,  4])\n",
      "y=array([15,  8,  3,  0, -1,  0,  3,  8, 15, 24])\n",
      "num_ops=10\n",
      "num_exp=5\n",
      "6*x**2\n",
      "2*x\n",
      "7*x**2\n",
      "-6*x**2\n",
      "7*x**2 + 2*x\n"
     ]
    },
    {
     "data": {
      "text/plain": [
       "[array([150,  96,  54,  24,   6,   0,   6,  24,  54,  96], dtype=int32),\n",
       " array([-10,  -8,  -6,  -4,  -2,   0,   2,   4,   6,   8], dtype=int32),\n",
       " array([175, 112,  63,  28,   7,   0,   7,  28,  63, 112], dtype=int32),\n",
       " array([-150,  -96,  -54,  -24,   -6,    0,   -6,  -24,  -54,  -96],\n",
       "       dtype=int32),\n",
       " array([165, 104,  57,  24,   5,   0,   9,  32,  69, 120], dtype=int32)]"
      ]
     },
     "execution_count": 35,
     "metadata": {},
     "output_type": "execute_result"
    }
   ],
   "source": [
    "x = np.arange(-5,5)\n",
    "y = f(x)\n",
    "print(f\"{x=}\")\n",
    "print(f\"{y=}\")\n",
    "# todo range from zero but / has problem\n",
    "randexpr_arr = generate_expressions(scope, num_exp=numexp, num_ops=numops)\n",
    "# randexpr_arr = [\"sin(x)*x\",\"x*x*x*x\",\"x*x*x*x*x\",\"x*x*x*x*x*x*x*x*x\",\"x*x*x*x*x\",\"x*x*x*x*x*x\",\"x*x + 2*x\"]\n",
    "simpled = [str(sympy.sympify(str(x))) for x in randexpr_arr]\n",
    "# simpled = list({str(sympy.sympify(str(x))) for x in generate_expressions(scope, num_exp=10, num_ops=10)})\n",
    "for tree in simpled:\n",
    "    print(tree)\n",
    "newvals=[]\n",
    "for exp in simpled:\n",
    "    newvals.append(ne.evaluate(exp))\n",
    "newvals"
   ]
  },
  {
   "cell_type": "code",
   "execution_count": 36,
   "metadata": {},
   "outputs": [
    {
     "name": "stdout",
     "output_type": "stream",
     "text": [
      "(2*x**2 - 3*x)*(2*x**2 - 2*x)\n",
      "0\n",
      "x**2 + (2*x**2 - 3*x)*(2*x**2 - 2*x)\n",
      "0\n",
      "x**2 + (2*x**2 - 3*x)*(2*x**2 - 2*x)\n"
     ]
    }
   ],
   "source": [
    "randexpr_exp = []\n",
    "randexpr_tree = []\n",
    "for index, expression in enumerate(randexpr_arr):\n",
    "    test = Expression(expression=expression, operators=op, operators_info=op_info,\n",
    "                      operators_associativity=assotiation, variables=varchar)\n",
    "    randexpr_exp.append(test)\n",
    "    randexpr_tree.append(test.tree())\n",
    "    # print(f\"{index}:\", randexpr_exp[index], \"& \", expression)\n",
    "    # print(randexpr_tree[index])\n",
    "for tree in randexpr_tree:\n",
    "    print(str(sympy.sympify(str(expTree2str(tree)))))\n"
   ]
  },
  {
   "cell_type": "code",
   "execution_count": 37,
   "metadata": {},
   "outputs": [],
   "source": [
    "def get_ready_for_minimizing_selection_np(population, mse):\n",
    "    mymse = np.max(mse) - mse\n",
    "    # sumOfList = np.sum(mymse)\n",
    "    # selection_probs = np.divide(mymse, sumOfList)\n",
    "    # print('mse=',mse)\n",
    "    # print(\"max=\",np.max(mse))\n",
    "    # print(\"mse_min=\", mymse)\n",
    "    # print('sum=',sumOfList)\n",
    "    # print('selection=',selection_probs)\n",
    "    # return selection_probs\n",
    "    cmsm = np.cumsum(mymse)\n",
    "    # print(f\"{cmsm=}\")\n",
    "    return cmsm\n",
    "\n",
    "def roulette_wheel_selection_np(population, cmsm):\n",
    "    # return population[np.random.choice(len(population), p=selection_probs)]\n",
    "    rnd = int(random()*cmsm[-1])\n",
    "    argm = np.argwhere(rnd < cmsm)\n",
    "    # print(f\"{rnd=}\")\n",
    "    # print(f\"{argm[0]=}\")\n",
    "    return population[argm.tolist()[0][0]]\n",
    "    \n"
   ]
  },
  {
   "cell_type": "code",
   "execution_count": 38,
   "metadata": {},
   "outputs": [],
   "source": [
    "def sortMseAndPopulation(population:list, mse:np.array) -> None:\n",
    "        sortidx = mse.argsort()\n",
    "        # print(\"sortid=\" ,sortidx)\n",
    "        sorted_popul= [population[num] for num in sortidx]\n",
    "        population = sorted_popul\n",
    "        mse = np.sort(mse)\n",
    "        # printPopulMse(sorted_popul,mse)"
   ]
  },
  {
   "cell_type": "code",
   "execution_count": 45,
   "metadata": {},
   "outputs": [],
   "source": [
    "def mutate(child: Node):\n",
    "    mutation_operators = ['+', '-', '*']\n",
    "    inorder_child = child.inorder\n",
    "    child_node = Node(1)\n",
    "    while child_node.value not in op:\n",
    "        child_node = choice(inorder_child)\n",
    "    child_node.value = mutation_operators[randint(0, len(mutation_operators)-1)]\n"
   ]
  },
  {
   "cell_type": "code",
   "execution_count": 51,
   "metadata": {},
   "outputs": [
    {
     "ename": "NameError",
     "evalue": "name 'mutation_percent' is not defined",
     "output_type": "error",
     "traceback": [
      "\u001b[1;31m---------------------------------------------------------------------------\u001b[0m",
      "\u001b[1;31mNameError\u001b[0m                                 Traceback (most recent call last)",
      "Cell \u001b[1;32mIn[51], line 59\u001b[0m\n\u001b[0;32m     53\u001b[0m     printGenStatus(abc\u001b[39m=\u001b[39m\u001b[39m\"\u001b[39m\u001b[39mfinal\u001b[39m\u001b[39m\"\u001b[39m, mse\u001b[39m=\u001b[39mmse)\n\u001b[0;32m     55\u001b[0m     \u001b[39mreturn\u001b[39;00m population\n\u001b[0;32m     58\u001b[0m res \u001b[39m=\u001b[39m genetic_algo(population\u001b[39m=\u001b[39mrandexpr_tree, saving\u001b[39m=\u001b[39m\u001b[39m0.2\u001b[39m,\n\u001b[1;32m---> 59\u001b[0m                    mutation_probability\u001b[39m=\u001b[39mmutation_percent, x\u001b[39m=\u001b[39mx, y\u001b[39m=\u001b[39my)\n\u001b[0;32m     60\u001b[0m \u001b[39mprint\u001b[39m(res[\u001b[39m0\u001b[39m])\n\u001b[0;32m     61\u001b[0m \u001b[39mprint\u001b[39m(expTree2str(res[\u001b[39m0\u001b[39m]))\n",
      "\u001b[1;31mNameError\u001b[0m: name 'mutation_percent' is not defined"
     ]
    }
   ],
   "source": [
    "def genetic_algo(population: list, mutation_probability: float, saving: float, x: np.array, y: np.array):\n",
    "    for abc in range(number_max_gen):\n",
    "        new_population = []\n",
    "        y_pred = evalFx(population, x)\n",
    "        mse = np.array([int(MSE(y, gg)) for gg in y_pred])\n",
    "\n",
    "        sortidx = mse.argsort()\n",
    "        # print(\"sortid=\" ,sortidx)\n",
    "        sorted_popul= [population[num] for num in sortidx]\n",
    "        population = sorted_popul\n",
    "        mse = np.sort(mse)\n",
    "        # printPopulMse(sorted_popul,mse)\n",
    "        if BigLog:\n",
    "            printPopulMse(population, mse)\n",
    "\n",
    "        if (mse == 0).any():\n",
    "            break\n",
    "\n",
    "        new_population.extend(population[:int(saving * len(population))])\n",
    "        print(f\"{len(population)=} || {saving*len(population)=}\")\n",
    "        if BigLog:\n",
    "            printPopulMse(new_population)\n",
    "        printGenStatus(abc, mse, population)\n",
    "\n",
    "        len_population = int(len(population) * (1-saving) / 2)\n",
    "        selection_probs = get_ready_for_minimizing_selection_np(\n",
    "            population, mse)\n",
    "        for i in range(len_population):\n",
    "            x_chosen = roulette_wheel_selection_np(population, selection_probs)\n",
    "            y_chosen = roulette_wheel_selection_np(population, selection_probs)\n",
    "            (child1, child2) = crossover(x_chosen, y_chosen)\n",
    "            if random() < mutation_probability:\n",
    "                if random() < 0.5:\n",
    "                    mutate(child1)\n",
    "                else:\n",
    "                    mutate(child2)\n",
    "\n",
    "            new_population.append(child1)\n",
    "            new_population.append(child2)\n",
    "        population = list(set(new_population))\n",
    "        # printPopulMse(new_population)\n",
    "\n",
    "    y_pred = evalFx(population, x)\n",
    "    mse = np.array([int(MSE(y, gg)) for gg in y_pred])\n",
    "\n",
    "    sortidx = mse.argsort()\n",
    "    # print(\"sortid=\" ,sortidx)\n",
    "    sorted_popul= [population[num] for num in sortidx]\n",
    "    population = sorted_popul\n",
    "    mse = np.sort(mse)\n",
    "    # printPopulMse(sorted_popul,mse)\n",
    "    printPopulMse(population, mse)\n",
    "    printGenStatus(abc=\"final\", mse=mse ,population=population)\n",
    "\n",
    "    return population\n",
    "\n",
    "\n",
    "res = genetic_algo(population=randexpr_tree, saving=0.2,\n",
    "                   mutation_probability=mutation_percent, x=x, y=y)\n",
    "print(res[0])\n",
    "print(expTree2str(res[0]))\n",
    "print(str(\n",
    "    sympy.sympify(\n",
    "        str(expTree2str(res[0]))\n",
    "    )\n",
    ")\n",
    ")\n",
    "# for tree in res:\n",
    "#     print(tree)\n",
    "# simpled = [str(sympy.sympify(str(bruh))) for bruh in res]\n",
    "# pprint(simpled)\n"
   ]
  },
  {
   "cell_type": "code",
   "execution_count": 40,
   "metadata": {},
   "outputs": [],
   "source": [
    "# # strscope = \"abcde\"\n",
    "# # scope = [c for c in strscope]\n",
    "# # num_exp=randint(1,5),\n",
    "# # randexpr = generate_expressions(scope,num_exp=int(input(\"enter num_exp: \")),num_ops=int(input(\"enter num_ops: \")))\n",
    "# # for index,expression in enumerate(randexpr):\n",
    "# #     print(expression)\n",
    "# #     # print(f'{index=}------>',tree)\n",
    "# # test = Expression(expression = \"x+sin(90)^2*y\",\n",
    "# #                     operators = {'+', 'sin', '^', '*'},\n",
    "# #                     operators_info = {'+': (2, 1), '*': (2, 2),'^': (2, 3), 'sin': (1, 4)},\n",
    "# #                     operators_associativity = {'+': 'LR', '*': 'LR','^': 'RL', 'sin': 'RL'},\n",
    "# #                     variables = {'x', 'y'})\n",
    "# expr = \"x+sin(90)^2*y\"\n",
    "# expr = '1+2*x^9/cos(x^2)+2*y^9'\n",
    "# expr = '1+2*x^9/cos(x^2)^2+2*y^9'\n",
    "# expr = \"x+2*y^2\"\n",
    "# op = {'+', '-', '*', '/', '^',\n",
    "#       'sin', 'cos'}\n",
    "# op_info = {'+': (2, 1), '-': (2, 1),\n",
    "#            '*': (2, 2), '/': (2, 2),\n",
    "#            '^': (2, 3),\n",
    "#            'sin': (1, 4), 'cos': (1, 4)}\n",
    "# assotiation = {'+': 'LR', '-': 'LR',\n",
    "#                '*': 'LR', '/': 'LR',\n",
    "#                '^': 'RL',\n",
    "#                'sin': 'RL', 'cos': 'RL'}\n",
    "# varchar = {'x', 'y'}\n",
    "# test = Expression(expression=expr, operators=op, operators_info=op_info,\n",
    "#                   operators_associativity=assotiation, variables=varchar)\n",
    "# print(expr)\n",
    "# print(test.tree())\n",
    "# test.tree().graphviz()\n",
    "# # pprint(test._tokens)\n",
    "# # pprint(list(expr))\n",
    "# print(evaluate(test.tree(), {'x': 4, 'y': 2}))"
   ]
  },
  {
   "cell_type": "code",
   "execution_count": 41,
   "metadata": {},
   "outputs": [],
   "source": [
    "# test.tree().graphviz()"
   ]
  },
  {
   "cell_type": "code",
   "execution_count": 42,
   "metadata": {},
   "outputs": [],
   "source": [
    "# test sin /cos\n",
    "# test = Expression(expression='x^2+2*x +2*x^3* sin(x^2+sin(2*x) )', operators=op, operators_info=op_info,\n",
    "#                     operators_associativity=assotiation, variables=varchar)\n",
    "# mysin = expTree2str(test.tree())\n",
    "# print(mysin)\n",
    "# str(sympy.sympify(str(mysin)))"
   ]
  }
 ],
 "metadata": {
  "kernelspec": {
   "display_name": "Python 3.10.8 64-bit",
   "language": "python",
   "name": "python3"
  },
  "language_info": {
   "codemirror_mode": {
    "name": "ipython",
    "version": 3
   },
   "file_extension": ".py",
   "mimetype": "text/x-python",
   "name": "python",
   "nbconvert_exporter": "python",
   "pygments_lexer": "ipython3",
   "version": "3.10.8"
  },
  "orig_nbformat": 4,
  "vscode": {
   "interpreter": {
    "hash": "26de051ba29f2982a8de78e945f0abaf191376122a1563185a90213a26c5da77"
   }
  }
 },
 "nbformat": 4,
 "nbformat_minor": 2
}
